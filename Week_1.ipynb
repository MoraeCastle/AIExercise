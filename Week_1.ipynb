{
  "nbformat": 4,
  "nbformat_minor": 0,
  "metadata": {
    "colab": {
      "name": "Untitled1.ipynb",
      "provenance": [],
      "authorship_tag": "ABX9TyMTVjb1iAhGSb5/0Ed3IRNF",
      "include_colab_link": true
    },
    "kernelspec": {
      "name": "python3",
      "display_name": "Python 3"
    }
  },
  "cells": [
    {
      "cell_type": "markdown",
      "metadata": {
        "id": "view-in-github",
        "colab_type": "text"
      },
      "source": [
        "<a href=\"https://colab.research.google.com/github/morecatle/AIExercise/blob/master/Week_1.ipynb\" target=\"_parent\"><img src=\"https://colab.research.google.com/assets/colab-badge.svg\" alt=\"Open In Colab\"/></a>"
      ]
    },
    {
      "cell_type": "code",
      "metadata": {
        "id": "HX8hjHrqmW_O",
        "colab_type": "code",
        "colab": {}
      },
      "source": [
        ""
      ],
      "execution_count": 0,
      "outputs": []
    },
    {
      "cell_type": "markdown",
      "metadata": {
        "id": "rxdhH_JSmjRa",
        "colab_type": "text"
      },
      "source": [
        "####**<광주 인공지능 사관학교>**\n",
        "\n",
        "호남대학교 소프트웨어학과 정영주"
      ]
    },
    {
      "cell_type": "markdown",
      "metadata": {
        "id": "jlHUlKSjnNH6",
        "colab_type": "text"
      },
      "source": [
        "**>>> 1주차 과제 (2020.06.14)**\n",
        "\n",
        "언어, 음성, 이미지, 자율주행의 분야에서 시중에 나와있는 다양한 제품들과 서비스 속 적용된 인공지능 기술들에 대해서 분석해 보고 흥미를 끄는 기술들은 무엇이 있는지 찾아 보며 학습 목표를 세워보기.\n",
        "\n"
      ]
    },
    {
      "cell_type": "markdown",
      "metadata": {
        "id": "QJHHdPD2nYKG",
        "colab_type": "text"
      },
      "source": [
        "* **언어**\n",
        "\n",
        " <인공지능 번역기>\n",
        "\n",
        " '같은 말이라도 아 다르고 어 다르다'라는 속담이 있습니다. 서로 다른 국가의 언어를 해석하는 번역기는 무조건적인 단어의 해석만이 아닌 그 문장의 분위기를 파악해서 사용자에게 출력해야 하는데요. 저는 그 번역기 중에서 가장 보편화 되어있는 **'구글 번역기'**에 대해 알아보았습니다.\n",
        "\n",
        " **구글 번역**은 초반에는 SYSTRAN이라는 기계 번역 회사의 엔진을 이용하다 16년도 말부터 이세돌과 관련해서 한동안 인간vs기계 라는 주제로 화제가 된 '알파고'에도 쓰인 딥러닝 기술을 번역기에 적용하는데, 이로 인해 번역 오류를 크게 줄였다고 합니다.\n",
        "\n",
        " 여기서 딥러닝은 머신러닝의 발전된 형태로 사람이 학습할 데이터를 입력하지 않아도 스스로 학습하고 예측한다고 합니다. 이러한 모델은 인간의 신경망을 본딴 인공 신경망에서 발전한 것인데, 이러한 기술이 적용되기 전 초기 구글 번역의 경우 입력되는 문장을 단어와 구절로 구분해 이에 맞는 외국어 단어와 구절로 옮긴 뒤 합성해 문장으로 출력하는 방식이었으나 딥러닝으로 적용하여 조각 단위가 아닌 한 번에 전체 문장을 번역하고 가장 적절한 번역을 찾아내기 위해 더 넓은 문맥을 사용하며 이후 재정렬하여 적절한 문법으로 인간이 구사하는 것과 같은 내용으로 맞춤으로서 훨씬 더 자연스러운 번역이 가능했습니다.\n",
        "\n",
        " 이번 강의 내용처럼 현재는 하드웨어 성능이 예전과는 달리 여러 작업을 충분히 진행할 수 있는 정도까지 발전되었기 때문에 이러한 딥러닝은 현재에 이르러 가장 강력한 기술이 된 것 같습니다. 딥러닝은 머신러닝과 달리 특징을 추출하고 학습하는 모든 과정을 기계가 하기 때문에 빅데이터와 같이 방대한 데이터와 연산서버같은 자원의 크기가 클수록 더욱 강력한 인공지능이 될 수 있는 것 같습니다.\n",
        " \n",
        " 저 또한 아직은 파이썬이라는 언어를 전문적으로 구현하는 레벨은 아니지만 강좌에 성실히 참여하여 딥러닝처럼 기계 스스로 학습하여 예측이 가능하도록 코딩을 할 수 있는 수준이 되고자 하는 다짐을 하게 되었습니다.\n"
      ]
    },
    {
      "cell_type": "markdown",
      "metadata": {
        "id": "oMnfpaB07qLD",
        "colab_type": "text"
      },
      "source": [
        "* **음성**\n",
        "\n",
        " <음성인식 플랫폼: 가상 비서>\n",
        "\n",
        " 사실 이 주제도 과제에서 제시한 언어 분야와 밀접한 관련이 있는 것 같습니다. 저는 음성과 관련해 갤럭시 사용자라면 한 번쯤은 사용했을 거라 생각하는 **'빅스비'**와 관련해 조사해 보았습니다.\n",
        "\n",
        "  "
      ]
    },
    {
      "cell_type": "markdown",
      "metadata": {
        "id": "LzLv6UWD8zGa",
        "colab_type": "text"
      },
      "source": [
        "* **이미지**\n",
        "\n",
        " <그림 맞추기>\n",
        "\n",
        " 사실 이 주제도 과제에서 제시한 언어 분야와 밀접한 관련이 있는 것 같습니다. 저는 음성과 관련해 갤럭시 사용자라면 한 번쯤은 사용했을 거라 생각하는 **'구글 퀵드로우'**와 관련해 조사해 보았습니다.\n"
      ]
    },
    {
      "cell_type": "markdown",
      "metadata": {
        "id": "lXsgKFaj9B1x",
        "colab_type": "text"
      },
      "source": [
        "* **자율주행**\n",
        "\n",
        " <음성인식 플랫폼: 가상 비서>\n",
        "\n",
        " 사실 이 주제도 과제에서 제시한 언어 분야와 밀접한 관련이 있는 것 같습니다. 저는 음성과 관련해 갤럭시 사용자라면 한 번쯤은 사용했을 거라 생각하는 **'빅스비'**와 관련해 조사해 보았습니다.\n"
      ]
    }
  ]
}