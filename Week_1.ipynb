{
  "nbformat": 4,
  "nbformat_minor": 0,
  "metadata": {
    "colab": {
      "name": "Untitled1.ipynb",
      "provenance": [],
      "authorship_tag": "ABX9TyN0xKTFHU6KzVvprDd8kdhe",
      "include_colab_link": true
    },
    "kernelspec": {
      "name": "python3",
      "display_name": "Python 3"
    }
  },
  "cells": [
    {
      "cell_type": "markdown",
      "metadata": {
        "id": "view-in-github",
        "colab_type": "text"
      },
      "source": [
        "<a href=\"https://colab.research.google.com/github/morecatle/AIExercise/blob/master/Week_1.ipynb\" target=\"_parent\"><img src=\"https://colab.research.google.com/assets/colab-badge.svg\" alt=\"Open In Colab\"/></a>"
      ]
    },
    {
      "cell_type": "code",
      "metadata": {
        "id": "HX8hjHrqmW_O",
        "colab_type": "code",
        "colab": {}
      },
      "source": [
        ""
      ],
      "execution_count": 0,
      "outputs": []
    },
    {
      "cell_type": "markdown",
      "metadata": {
        "id": "rxdhH_JSmjRa",
        "colab_type": "text"
      },
      "source": [
        "**광주 인공지능 사관학교**\n",
        "\n",
        "호남대학교 소프트웨어학과 정영주"
      ]
    },
    {
      "cell_type": "markdown",
      "metadata": {
        "id": "jlHUlKSjnNH6",
        "colab_type": "text"
      },
      "source": [
        "**1주차 과제**\n",
        "\n"
      ]
    },
    {
      "cell_type": "markdown",
      "metadata": {
        "id": "QJHHdPD2nYKG",
        "colab_type": "text"
      },
      "source": [
        ""
      ]
    }
  ]
}