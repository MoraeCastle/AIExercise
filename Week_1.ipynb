{
  "nbformat": 4,
  "nbformat_minor": 0,
  "metadata": {
    "colab": {
      "name": "Untitled1.ipynb",
      "provenance": [],
      "authorship_tag": "ABX9TyNhD+s08IaBC6BXvrPcrsTL",
      "include_colab_link": true
    },
    "kernelspec": {
      "name": "python3",
      "display_name": "Python 3"
    }
  },
  "cells": [
    {
      "cell_type": "markdown",
      "metadata": {
        "id": "view-in-github",
        "colab_type": "text"
      },
      "source": [
        "<a href=\"https://colab.research.google.com/github/morecatle/AIExercise/blob/master/Week_1.ipynb\" target=\"_parent\"><img src=\"https://colab.research.google.com/assets/colab-badge.svg\" alt=\"Open In Colab\"/></a>"
      ]
    },
    {
      "cell_type": "code",
      "metadata": {
        "id": "HX8hjHrqmW_O",
        "colab_type": "code",
        "colab": {}
      },
      "source": [
        ""
      ],
      "execution_count": 0,
      "outputs": []
    },
    {
      "cell_type": "markdown",
      "metadata": {
        "id": "rxdhH_JSmjRa",
        "colab_type": "text"
      },
      "source": [
        "**<광주 인공지능 사관학교>**\n",
        "\n",
        "호남대학교 소프트웨어학과 정영주"
      ]
    },
    {
      "cell_type": "markdown",
      "metadata": {
        "id": "jlHUlKSjnNH6",
        "colab_type": "text"
      },
      "source": [
        "**>>> 1주차 과제 (2020.06.14)**\n",
        "\n",
        "언어, 음성, 이미지, 자율주행의 분야에서 시중에 나와있는 다양한 제품들과 서비스 속 적용된 인공지능 기술들에 대해서 분석해 보고 흥미를 끄는 기술들은 무엇이 있는지 찾아 보며 학습 목표를 세워보기.\n",
        "\n"
      ]
    },
    {
      "cell_type": "markdown",
      "metadata": {
        "id": "QJHHdPD2nYKG",
        "colab_type": "text"
      },
      "source": [
        "* **언어**\n",
        "\n",
        "1. 인공지능 번역기\n",
        "\n",
        " '같은 말이라도 아 다르고 어 다르다'라는 속담이 있습니다. 서로 다른 국가의 언어를 해석하는 번역기는 무조건적인 단어의 해석만이 아닌 그 문장의 분위기를 파악해서 사용자에게 출력해야 하는데요. 저는 그 번역기 중에서 가장 보편화 되어있는 '구글 번역기'에 대해 알아보았습니다.\n",
        "\n",
        " 구글 번역은 초반에는 SYSTRAN이라는 기계 번역 회사의 엔진을 이용하다 16년도 말부터 이세돌과 관련해서 한동안 인간vs기계 라는 주제로 화제가 된 '알파고'에도 쓰인 딥러닝 기술을 번역기에 적용하는데, 이로 인해 번역 오류를 크게 줄였다고 합니다.\n",
        "\n",
        " 여기서 딥러닝은 머신러닝의 발전된 형태로 사람이 학습할 데이터를 입력하지 않아도 스스로 학습하고 예측한다고 합니다. 이러한 모델은 인간의 신경망을 본딴 인공 신경망에서 발전한 것인데 구글 번역의 경우 기존에는 \n",
        " \n",
        " 이제 딥러닝과 번역의 상관관계를 설명하자.\n",
        "\n",
        "\n",
        "\n"
      ]
    },
    {
      "cell_type": "code",
      "metadata": {
        "id": "SXespN1psQqt",
        "colab_type": "code",
        "colab": {}
      },
      "source": [
        ""
      ],
      "execution_count": 0,
      "outputs": []
    }
  ]
}